{
 "cells": [
  {
   "cell_type": "markdown",
   "id": "e20cd850",
   "metadata": {},
   "source": [
    "# Bench Buddy Simulation\n",
    "\n",
    "**Example title** \n",
    "- example bullet\n",
    "- example bullet\n",
    "\n",
    "Let's start by actually doing something!"
   ]
  },
  {
   "cell_type": "markdown",
   "id": "af4a931a",
   "metadata": {},
   "source": [
    "# Set up environment"
   ]
  },
  {
   "cell_type": "code",
   "execution_count": null,
   "id": "41378e80",
   "metadata": {},
   "outputs": [],
   "source": [
    "# Optional installs for packages\n",
    "\n",
    "# pip3 install numpy pandas matplotlib seaborn scikit-learn scipy jupyterlab\n",
    "# pip3 install tensorflow torch torchvision\n",
    "# pip3 install pydrake"
   ]
  },
  {
   "cell_type": "code",
   "execution_count": null,
   "id": "303a2b21",
   "metadata": {},
   "outputs": [],
   "source": [
    "import os\n",
    "import time\n",
    "from pathlib import Path\n",
    "from textwrap import dedent\n",
    "\n",
    "import numpy as np\n",
    "from pydrake.all import (\n",
    "    Context,\n",
    "    DiagramBuilder,\n",
    "    InverseKinematics,\n",
    "    MultibodyPlant,\n",
    "    PiecewisePolynomial,\n",
    "    RigidTransform,\n",
    "    RotationMatrix,\n",
    "    Simulator,\n",
    "    Solve,\n",
    "    StartMeshcat,\n",
    "    TrajectorySource,\n",
    ")\n",
    "\n",
    "from manipulation import running_as_notebook\n",
    "from manipulation.exercises.trajectories.rrt_planner.robot import (\n",
    "    ConfigurationSpace,\n",
    "    Range,\n",
    ")\n",
    "from manipulation.exercises.trajectories.rrt_planner.rrt_planning import (\n",
    "    RRT,\n",
    "    TreeNode,\n",
    ")\n",
    "from manipulation.letter_generation import create_sdf_asset_from_letter\n",
    "from manipulation.meshcat_utils import AddMeshcatTriad\n",
    "from manipulation.station import LoadScenario, MakeHardwareStation"
   ]
  },
  {
   "cell_type": "code",
   "execution_count": null,
   "id": "d9c27d2d",
   "metadata": {},
   "outputs": [],
   "source": [
    "meshcat = StartMeshcat()\n",
    "print(f\"Meshcat URL: {meshcat.web_url()}\")\n",
    "print(\"Click the link above to open Meshcat in your browser!\")"
   ]
  },
  {
   "cell_type": "markdown",
   "id": "8ecb7131",
   "metadata": {},
   "source": [
    "# Set up the scene"
   ]
  },
  {
   "cell_type": "code",
   "execution_count": null,
   "id": "2d2c688b",
   "metadata": {},
   "outputs": [],
   "source": [
    "outdir = \"scenarios\"\n",
    "assets_dir = \"assets\"\n",
    "os.makedirs(outdir, exist_ok=True)\n",
    "os.makedirs(assets_dir, exist_ok=True)"
   ]
  },
  {
   "cell_type": "markdown",
   "id": "bec6249d",
   "metadata": {},
   "source": [
    "# Set up necessary controllers & ??\n",
    "\n",
    "Setting up our PD controller with our iiwa robot."
   ]
  },
  {
   "cell_type": "code",
   "execution_count": null,
   "id": "c84b2e86",
   "metadata": {},
   "outputs": [],
   "source": [
    "def create_IIWA14_diagram_with_controller(\n",
    "    Kp: float,\n",
    "    Kd: float,\n",
    "    q_desired: np.ndarray,\n",
    "):\n",
    "    \"\"\"Create a diagram with the IIWA14 and PD controller (gravity compensated).\"\"\"\n",
    "\n",
    "    builder = DiagramBuilder()\n",
    "    plant, scene_graph = AddMultibodyPlantSceneGraph(builder, time_step=1e-4)\n",
    "    parser = Parser(plant, scene_graph)\n",
    "\n",
    "    # Load the IIWA model\n",
    "    iiwa = parser.AddModelsFromUrl(\n",
    "        \"package://drake_models/iiwa_description/urdf/iiwa14_primitive_collision.urdf\"\n",
    "    )[0]\n",
    "\n",
    "    # Weld base frame to world\n",
    "    plant.WeldFrames(plant.world_frame(), plant.GetFrameByName(\"iiwa_link_0\"))\n",
    "    plant.Finalize()\n",
    "\n",
    "    # Create inverse dynamics PD controller (adds gravity compensation automatically)\n",
    "    num_joints = plant.num_positions(iiwa)\n",
    "    controller = builder.AddSystem(\n",
    "        InverseDynamicsController(\n",
    "            plant=plant,\n",
    "            Kp=[Kp] * num_joints,\n",
    "            Ki=[0] * num_joints,\n",
    "            Kd=[Kd] * num_joints,\n",
    "            has_reference_acceleration=False,\n",
    "        )\n",
    "    )\n",
    "\n",
    "    # Constant source for desired joint positions\n",
    "    desired_source = builder.AddSystem(ConstantVectorSource(q_desired))\n",
    "\n",
    "    # Connect the controller\n",
    "    builder.Connect(plant.get_state_output_port(iiwa), controller.get_input_port_estimated_state())\n",
    "    builder.Connect(desired_source.get_output_port(), controller.get_input_port_desired_state())\n",
    "    builder.Connect(controller.get_output_port_control(), plant.get_actuation_input_port(iiwa))\n",
    "\n",
    "    # Add data logger\n",
    "    logger = builder.AddSystem(VectorLogSink(plant.num_multibody_states()))\n",
    "    builder.Connect(plant.get_state_output_port(iiwa), logger.get_input_port())\n",
    "\n",
    "    # Add Meshcat visualizer\n",
    "    MeshcatVisualizer.AddToBuilder(builder, scene_graph, meshcat)\n",
    "\n",
    "    diagram = builder.Build()\n",
    "    return diagram, plant, iiwa, logger\n"
   ]
  },
  {
   "cell_type": "code",
   "execution_count": null,
   "id": "58a4c579",
   "metadata": {},
   "outputs": [],
   "source": [
    "def simulate_IIWA14_with_controller(\n",
    "    q0: np.ndarray,\n",
    "    controller_gain: float,\n",
    "    q_desired: np.ndarray,\n",
    "    simulation_time=3.0,\n",
    "    set_target_realtime_rate=True,\n",
    ") -> tuple[np.ndarray, np.ndarray, np.ndarray]:\n",
    "    \"\"\"Simulate IIWA14 with PD controller\"\"\"\n",
    "\n",
    "    diagram, plant, iiwa, logger = create_IIWA14_diagram_with_controller(\n",
    "        controller_gain, q_desired\n",
    "    )\n",
    "\n",
    "    diagram_context = diagram.CreateDefaultContext()\n",
    "    plant_context = plant.GetMyMutableContextFromRoot(diagram_context)\n",
    "    plant.SetPositions(plant_context, q0)\n",
    "\n",
    "    simulator = Simulator(diagram, diagram_context)\n",
    "    if set_target_realtime_rate:\n",
    "        simulator.set_target_realtime_rate(1.0)\n",
    "\n",
    "    simulator.AdvanceTo(simulation_time)\n",
    "\n",
    "    # Extract logged data\n",
    "    log = logger.FindLog(diagram_context)\n",
    "    times = log.sample_times()\n",
    "    states = log.data()\n",
    "\n",
    "    final_positions = plant.GetPositions(plant_context)\n",
    "    return final_positions, times, states"
   ]
  },
  {
   "cell_type": "markdown",
   "id": "10696e22",
   "metadata": {},
   "source": [
    "# Simulate bench"
   ]
  },
  {
   "cell_type": "markdown",
   "id": "3cd0dd55",
   "metadata": {},
   "source": [
    "# Simulate body, neck, head, & arms"
   ]
  },
  {
   "cell_type": "markdown",
   "id": "c68002ad",
   "metadata": {},
   "source": [
    "# Simulate bar & its behavior"
   ]
  },
  {
   "cell_type": "markdown",
   "id": "96de63d5",
   "metadata": {},
   "source": []
  },
  {
   "cell_type": "code",
   "execution_count": null,
   "id": "6a78e341",
   "metadata": {},
   "outputs": [],
   "source": [
    "# Need range for fastest and slowest that the bar could drop"
   ]
  },
  {
   "cell_type": "code",
   "execution_count": null,
   "id": "ea50d6b6",
   "metadata": {},
   "outputs": [],
   "source": [
    "# Need range for farthest and closest that the bar could follow"
   ]
  },
  {
   "cell_type": "code",
   "execution_count": null,
   "id": "d2abe6c4",
   "metadata": {},
   "outputs": [],
   "source": [
    "# Within those two ranges need to randomize trajectory of the bar lowering"
   ]
  },
  {
   "cell_type": "markdown",
   "id": "2e397957",
   "metadata": {},
   "source": [
    "# Test cases & saving test results"
   ]
  },
  {
   "cell_type": "markdown",
   "id": "e45118db",
   "metadata": {},
   "source": [
    "# Analyzing test results"
   ]
  }
 ],
 "metadata": {
  "language_info": {
   "name": "python"
  }
 },
 "nbformat": 4,
 "nbformat_minor": 5
}
