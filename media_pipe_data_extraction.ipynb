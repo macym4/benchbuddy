{
 "cells": [
  {
   "cell_type": "markdown",
   "id": "5fed5a01",
   "metadata": {},
   "source": [
    "# MediaPipe Data Extraction\n",
    "\n",
    "By providing the specific video in the \"Set up system\" section, this script will produce "
   ]
  },
  {
   "cell_type": "markdown",
   "id": "cef4fac9",
   "metadata": {},
   "source": [
    "# Install MediaPipe"
   ]
  },
  {
   "cell_type": "code",
   "execution_count": null,
   "id": "3a05e332",
   "metadata": {
    "vscode": {
     "languageId": "plaintext"
    }
   },
   "outputs": [],
   "source": [
    "pip install mediapipe opencv-python"
   ]
  },
  {
   "cell_type": "markdown",
   "id": "68c8c81d",
   "metadata": {},
   "source": [
    "# Set up system\n",
    "\n",
    "Modify the \"cap\" variable to clarify the exact video that you're extracting information from."
   ]
  },
  {
   "cell_type": "code",
   "execution_count": null,
   "id": "1d74ba13",
   "metadata": {
    "vscode": {
     "languageId": "plaintext"
    }
   },
   "outputs": [],
   "source": [
    "import cv2\n",
    "import mediapipe as mp\n",
    "\n",
    "mp_pose = mp.solutions.pose\n",
    "pose = mp_pose.Pose(static_image_mode=False, model_complexity=1, enable_segmentation=False, min_detection_confidence=0.5)\n",
    "\n",
    "cap = cv2.VideoCapture(\"bench_press.mp4\")\n"
   ]
  },
  {
   "cell_type": "markdown",
   "id": "064d68a6",
   "metadata": {},
   "source": [
    "# Compute keypoints from the frame"
   ]
  },
  {
   "cell_type": "code",
   "execution_count": null,
   "id": "7e020e2c",
   "metadata": {
    "vscode": {
     "languageId": "plaintext"
    }
   },
   "outputs": [],
   "source": [
    "frame_idx = 0\n",
    "keypoints = []\n",
    "\n",
    "while cap.isOpened():\n",
    "    success, frame = cap.read()\n",
    "    if not success:\n",
    "        break\n",
    "\n",
    "    # Convert the frame to RGB\n",
    "    image_rgb = cv2.cvtColor(frame, cv2.COLOR_BGR2RGB)\n",
    "    results = pose.process(image_rgb)\n",
    "\n",
    "    if results.pose_landmarks:\n",
    "        # Extract 3D coordinates for wrists, elbows, shoulders\n",
    "        landmarks = results.pose_landmarks.landmark\n",
    "        left_wrist = landmarks[mp_pose.PoseLandmark.LEFT_WRIST]\n",
    "        right_wrist = landmarks[mp_pose.PoseLandmark.RIGHT_WRIST]\n",
    "        left_elbow = landmarks[mp_pose.PoseLandmark.LEFT_ELBOW]\n",
    "        right_elbow = landmarks[mp_pose.PoseLandmark.RIGHT_ELBOW]\n",
    "\n",
    "        keypoints.append({\n",
    "            \"frame\": frame_idx,\n",
    "            \"lwrist\": (left_wrist.x, left_wrist.y, left_wrist.z),\n",
    "            \"rwrist\": (right_wrist.x, right_wrist.y, right_wrist.z),\n",
    "            \"lelbow\": (left_elbow.x, left_elbow.y, left_elbow.z),\n",
    "            \"relbow\": (right_elbow.x, right_elbow.y, right_elbow.z),\n",
    "        })\n",
    "\n",
    "    frame_idx += 1\n",
    "\n",
    "cap.release()\n"
   ]
  },
  {
   "cell_type": "code",
   "execution_count": null,
   "id": "22346387",
   "metadata": {
    "vscode": {
     "languageId": "plaintext"
    }
   },
   "outputs": [],
   "source": [
    "import pandas as pd\n",
    "\n",
    "df = pd.DataFrame(keypoints)\n",
    "df.to_csv(\"mediapipe_lift_trajectory.csv\", index=False)\n"
   ]
  },
  {
   "cell_type": "markdown",
   "id": "4b452da1",
   "metadata": {},
   "source": [
    "# Extract the bar information from the other keypoints"
   ]
  },
  {
   "cell_type": "code",
   "execution_count": null,
   "id": "5a0fa37f",
   "metadata": {
    "vscode": {
     "languageId": "plaintext"
    }
   },
   "outputs": [],
   "source": [
    "df[\"bar_x\"] = (df[\"lwrist\"].apply(lambda p: p[0]) + df[\"rwrist\"].apply(lambda p: p[0])) / 2\n",
    "df[\"bar_y\"] = (df[\"lwrist\"].apply(lambda p: p[1]) + df[\"rwrist\"].apply(lambda p: p[1])) / 2\n",
    "df[\"bar_z\"] = (df[\"lwrist\"].apply(lambda p: p[2]) + df[\"rwrist\"].apply(lambda p: p[2])) / 2\n"
   ]
  },
  {
   "cell_type": "markdown",
   "id": "a11527d4",
   "metadata": {},
   "source": [
    "# Save the bar information"
   ]
  },
  {
   "cell_type": "code",
   "execution_count": null,
   "id": "30001733",
   "metadata": {
    "vscode": {
     "languageId": "plaintext"
    }
   },
   "outputs": [],
   "source": [
    "import numpy as np\n",
    "bar_data = np.loadtxt(\"mediapipe_lift_trajectory.csv\", delimiter=\",\", skiprows=1)\n",
    "bar_z_positions = bar_data[:, -1]  # assuming last column = bar_z\n"
   ]
  }
 ],
 "metadata": {
  "language_info": {
   "name": "python"
  }
 },
 "nbformat": 4,
 "nbformat_minor": 5
}
